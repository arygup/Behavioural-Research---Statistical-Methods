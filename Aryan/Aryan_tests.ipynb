{
 "cells": [
  {
   "cell_type": "code",
   "execution_count": 1,
   "metadata": {},
   "outputs": [
    {
     "data": {
      "text/plain": [
       "(   Unnamed: 0    user  dayofweek  hour  age  numscreens  minigame  \\\n",
       " 0           0  235136          3     2   23          15         0   \n",
       " 1           1  333588          6     1   24          13         0   \n",
       " 2           2  254414          1    19   23           3         0   \n",
       " 3           3  234192          4    16   28          40         0   \n",
       " 4           4   51549          1    18   31          32         0   \n",
       " \n",
       "    used_premium_feature  enrolled  liked  ...  SecurityModal  ResendToken  \\\n",
       " 0                     0         0      0  ...              0            0   \n",
       " 1                     0         0      0  ...              0            0   \n",
       " 2                     1         0      1  ...              0            0   \n",
       " 3                     0         1      0  ...              0            0   \n",
       " 4                     0         1      1  ...              0            0   \n",
       " \n",
       "    TransactionList  NetworkFailure  ListPicker  remain_screen_list  \\\n",
       " 0                0               0           0                   7   \n",
       " 1                0               0           0                   5   \n",
       " 2                0               0           0                   0   \n",
       " 3                0               0           0                   6   \n",
       " 4                0               0           0                  10   \n",
       " \n",
       "    saving_screens_count  credit_screens_count  cc_screens_count  \\\n",
       " 0                     0                     0                 0   \n",
       " 1                     0                     0                 0   \n",
       " 2                     0                     0                 0   \n",
       " 3                     0                     3                 0   \n",
       " 4                     0                     2                 0   \n",
       " \n",
       "    loan_screens_count  \n",
       " 0                   1  \n",
       " 1                   1  \n",
       " 2                   1  \n",
       " 3                   1  \n",
       " 4                   1  \n",
       " \n",
       " [5 rows x 51 columns],\n",
       " Unnamed: 0                 int64\n",
       " user                       int64\n",
       " dayofweek                  int64\n",
       " hour                       int64\n",
       " age                        int64\n",
       " numscreens                 int64\n",
       " minigame                   int64\n",
       " used_premium_feature       int64\n",
       " enrolled                   int64\n",
       " liked                      int64\n",
       " location                   int64\n",
       " Institutions               int64\n",
       " VerifyPhone                int64\n",
       " BankVerification           int64\n",
       " VerifyDateOfBirth          int64\n",
       " ProfilePage                int64\n",
       " VerifyCountry              int64\n",
       " Cycle                      int64\n",
       " idscreen                   int64\n",
       " Splash                     int64\n",
       " RewardsContainer           int64\n",
       " EditProfile                int64\n",
       " Finances                   int64\n",
       " Alerts                     int64\n",
       " Leaderboard                int64\n",
       " VerifyMobile               int64\n",
       " VerifyHousing              int64\n",
       " RewardDetail               int64\n",
       " VerifyHousingAmount        int64\n",
       " ProfileMaritalStatus       int64\n",
       " ProfileChildren            int64\n",
       " ProfileEducation           int64\n",
       " ProfileEducationMajor      int64\n",
       " Rewards                    int64\n",
       " AccountView                int64\n",
       " VerifyAnnualIncome         int64\n",
       " VerifyIncomeType           int64\n",
       " ProfileJobTitle            int64\n",
       " Login                      int64\n",
       " ProfileEmploymentLength    int64\n",
       " WebView                    int64\n",
       " SecurityModal              int64\n",
       " ResendToken                int64\n",
       " TransactionList            int64\n",
       " NetworkFailure             int64\n",
       " ListPicker                 int64\n",
       " remain_screen_list         int64\n",
       " saving_screens_count       int64\n",
       " credit_screens_count       int64\n",
       " cc_screens_count           int64\n",
       " loan_screens_count         int64\n",
       " dtype: object)"
      ]
     },
     "execution_count": 1,
     "metadata": {},
     "output_type": "execute_result"
    }
   ],
   "source": [
    "import pandas as pd\n",
    "\n",
    "# Load the data from the uploaded CSV file\n",
    "data_path = 'clean_FineTech_appData.csv'\n",
    "customer_data = pd.read_csv(data_path)\n",
    "\n",
    "# Display the first few rows of the dataframe and the data types of each column\n",
    "customer_data.head(), customer_data.dtypes\n"
   ]
  },
  {
   "cell_type": "code",
   "execution_count": 2,
   "metadata": {},
   "outputs": [
    {
     "data": {
      "text/plain": [
       "{'minigame': 0.022415479101004665,\n",
       " 'used_premium_feature': 1.0917913817684498e-26,\n",
       " 'enrolled': 0.0,\n",
       " 'location': 0.0,\n",
       " 'Institutions': 0.04719787373062467,\n",
       " 'VerifyPhone': 0.0,\n",
       " 'BankVerification': 0.0,\n",
       " 'VerifyDateOfBirth': 0.0,\n",
       " 'ProfilePage': 2.2607178205019624e-09,\n",
       " 'VerifyCountry': 0.0,\n",
       " 'Cycle': 1.2348732488788239e-92,\n",
       " 'idscreen': 0.0,\n",
       " 'Splash': 1.360676606225607e-17,\n",
       " 'RewardsContainer': 0.015451647138783517,\n",
       " 'Finances': 1.0197685730629454e-28,\n",
       " 'Alerts': 5.958678697692519e-225,\n",
       " 'Leaderboard': 0.00475562326061741,\n",
       " 'VerifyMobile': 1.751896295185995e-257,\n",
       " 'VerifyHousing': 1.300135850208171e-18,\n",
       " 'RewardDetail': 2.486167321485173e-06,\n",
       " 'VerifyHousingAmount': 4.873439290375567e-20,\n",
       " 'ProfileMaritalStatus': 0.001279298998704523,\n",
       " 'ProfileEducation': 8.343952896849845e-06,\n",
       " 'ProfileEducationMajor': 1.2842006994438508e-07,\n",
       " 'Rewards': 1.4935015108085087e-15,\n",
       " 'AccountView': 1.0093294904600182e-48,\n",
       " 'VerifyAnnualIncome': 2.98679005829175e-21,\n",
       " 'VerifyIncomeType': 1.048639399159856e-07,\n",
       " 'ProfileJobTitle': 9.024944076109551e-07,\n",
       " 'Login': 3.815707327291417e-10,\n",
       " 'ProfileEmploymentLength': 0.00020830801764954013,\n",
       " 'WebView': 1.6523994978770815e-40,\n",
       " 'SecurityModal': 2.1675154116171901e-13,\n",
       " 'TransactionList': 1.289329495300392e-25,\n",
       " 'ListPicker': 6.128522405763001e-05}"
      ]
     },
     "execution_count": 2,
     "metadata": {},
     "output_type": "execute_result"
    }
   ],
   "source": [
    "from scipy.stats import chi2_contingency\n",
    "\n",
    "# Identify all binary columns\n",
    "binary_columns = [col for col in customer_data.columns if customer_data[col].nunique() == 2]\n",
    "\n",
    "# Create a dictionary to store p-values from chi-square tests\n",
    "chi_square_results = {}\n",
    "\n",
    "for col in binary_columns:\n",
    "    # Constructing the contingency table\n",
    "    contingency_table = pd.crosstab(customer_data[col], customer_data['enrolled'])\n",
    "    # Perform the Chi-square test\n",
    "    chi2, p, dof, ex = chi2_contingency(contingency_table)\n",
    "    # Store the p-value corresponding to the test\n",
    "    chi_square_results[col] = p\n",
    "\n",
    "# Filter results to show only those variables with significant p-values (p < 0.05)\n",
    "significant_chi_square_results = {k: v for k, v in chi_square_results.items() if v < 0.05}\n",
    "significant_chi_square_results"
   ]
  },
  {
   "cell_type": "markdown",
   "metadata": {},
   "source": [
    "The Chi-square test results show that many binary variables are statistically significant with respect to the enrolled status (p-value < 0.05). \n",
    "\n",
    "Some of these significant variables include:\n",
    "\n",
    "Usage of premium features (used_premium_feature)\n",
    "Verification of phone (VerifyPhone), date of birth (VerifyDateOfBirth), and other personal information\n",
    "Engagement with different app features like minigame, alerts, finances, and more\n",
    "\n",
    "\n",
    "This suggests these features are related to whether a user is likely to enroll or not. Each of these significant relationships indicates a dependency between user interactions/features and their enrollment status."
   ]
  },
  {
   "cell_type": "code",
   "execution_count": 3,
   "metadata": {},
   "outputs": [
    {
     "data": {
      "text/plain": [
       "{'dayofweek': 0.0012067335547983544,\n",
       " 'hour': 1.579299279813777e-30,\n",
       " 'age': 2.3910540280338208e-262,\n",
       " 'numscreens': 0.0,\n",
       " 'remain_screen_list': 0.0,\n",
       " 'saving_screens_count': 1.4227613006168807e-06,\n",
       " 'credit_screens_count': 0.0,\n",
       " 'cc_screens_count': 0.00035195203915489194,\n",
       " 'loan_screens_count': 1.0801980033361591e-138}"
      ]
     },
     "execution_count": 3,
     "metadata": {},
     "output_type": "execute_result"
    }
   ],
   "source": [
    "from scipy.stats import mannwhitneyu\n",
    "\n",
    "# Identify numeric columns (excluding binary variables and the user identifier)\n",
    "numeric_columns = [col for col in customer_data.columns if customer_data[col].nunique() > 2 and col != 'user']\n",
    "\n",
    "# Create a dictionary to store p-values from Mann-Whitney U tests\n",
    "mann_whitney_results = {}\n",
    "\n",
    "for col in numeric_columns:\n",
    "    # Split data into two groups: enrolled and not enrolled\n",
    "    group1 = customer_data[customer_data['enrolled'] == 0][col]\n",
    "    group2 = customer_data[customer_data['enrolled'] == 1][col]\n",
    "    \n",
    "    # Perform the Mann-Whitney U test\n",
    "    stat, p = mannwhitneyu(group1, group2, alternative='two-sided')\n",
    "    mann_whitney_results[col] = p\n",
    "\n",
    "# Filter results to show only those variables with significant p-values (p < 0.05)\n",
    "significant_mann_whitney_results = {k: v for k, v in mann_whitney_results.items() if v < 0.05}\n",
    "significant_mann_whitney_results\n"
   ]
  },
  {
   "cell_type": "markdown",
   "metadata": {},
   "source": [
    "The Mann-Whitney U test results also reveal several numeric variables with statistically significant differences between the enrolled and not-enrolled users:\n",
    "\n",
    "dayofweek and hour of app usage\n",
    "age of the user\n",
    "Number of screens (numscreens) interacted with\n",
    "Various counts of specific screens like credit_screens_count, cc_screens_count, and loan_screens_count\n",
    "\n",
    "These findings suggest that these variables might be important predictors of enrollment. For instance, differences in age and the extent of app interaction (numscreens) could be leveraged to understand and predict user behavior regarding enrollment."
   ]
  },
  {
   "cell_type": "code",
   "execution_count": 4,
   "metadata": {},
   "outputs": [
    {
     "data": {
      "text/plain": [
       "{'dayofweek':                     sum_sq       df         F    PR(>F)\n",
       " C(dayofweek)      7.275738      6.0  4.852812  0.000058\n",
       " Residual      12492.274262  49993.0       NaN       NaN,\n",
       " 'ProfileMaritalStatus':                                sum_sq       df          F    PR(>F)\n",
       " C(ProfileMaritalStatus)      2.626892      1.0  10.509735  0.001188\n",
       " Residual                 12496.923108  49998.0        NaN       NaN,\n",
       " 'ProfileEducation':                            sum_sq       df          F    PR(>F)\n",
       " C(ProfileEducation)      5.012097      1.0  20.056349  0.000008\n",
       " Residual             12494.537903  49998.0        NaN       NaN}"
      ]
     },
     "execution_count": 4,
     "metadata": {},
     "output_type": "execute_result"
    }
   ],
   "source": [
    "import statsmodels.api as sm\n",
    "from statsmodels.formula.api import ols\n",
    "\n",
    "# List of categorical variables for ANOVA (excluding binary)\n",
    "categorical_columns = ['dayofweek', 'ProfileMaritalStatus', 'ProfileEducation']\n",
    "\n",
    "# Dictionary to store ANOVA results\n",
    "anova_results = {}\n",
    "\n",
    "# Perform ANOVA for each categorical variable\n",
    "for col in categorical_columns:\n",
    "    # Prepare the formula like 'enrolled ~ C(variable)'\n",
    "    formula = f'enrolled ~ C({col})'\n",
    "    model = ols(formula, data=customer_data).fit()\n",
    "    aov_table = sm.stats.anova_lm(model, typ=2)\n",
    "    anova_results[col] = aov_table\n",
    "\n",
    "anova_results\n"
   ]
  },
  {
   "cell_type": "markdown",
   "metadata": {},
   "source": [
    "The ANOVA results for dayofweek, ProfileMaritalStatus, and ProfileEducation are as follows:\n",
    "\n",
    "Day of Week: There is a statistically significant difference in enrollment across different days of the week (p = 0.000058).\n",
    "\n",
    "Marital Status: There is a statistically significant difference in enrollment based on marital status (p = 0.001188).\n",
    "\n",
    "Education Level: There is a statistically significant difference in enrollment based on education level (p = 0.000008).\n",
    "\n",
    "These results indicate that there are significant variations in enrollment likelihood across different categories within these variables."
   ]
  },
  {
   "cell_type": "code",
   "execution_count": 7,
   "metadata": {},
   "outputs": [
    {
     "data": {
      "text/plain": [
       "TtestResult(statistic=27.273807877678276, pvalue=4.620007038446122e-162, df=34399.642878622784)"
      ]
     },
     "execution_count": 7,
     "metadata": {},
     "output_type": "execute_result"
    }
   ],
   "source": [
    "from scipy.stats import ttest_ind\n",
    "\n",
    "# Create two groups based on age\n",
    "group_under_45 = customer_data[customer_data['age'] <= 25]['enrolled']\n",
    "group_over_45 = customer_data[customer_data['age'] > 25]['enrolled']\n",
    "\n",
    "# Perform t-test between the two age groups\n",
    "age_ttest_result = ttest_ind(group_under_45, group_over_45, equal_var=False)  # Assuming unequal variance\n",
    "age_ttest_result\n"
   ]
  },
  {
   "cell_type": "markdown",
   "metadata": {},
   "source": [
    "The t-test comparing enrollment rates between individuals under 25 years of age and those over 25 yields a statistically significant result (p-value ≈ 0.0). This indicates that there is a significant difference in enrollment rates between these two age groups, with individuals under 25 having a different rate of enrollment compared to those over 25."
   ]
  },
  {
   "cell_type": "code",
   "execution_count": 8,
   "metadata": {},
   "outputs": [
    {
     "data": {
      "text/plain": [
       "MannwhitneyuResult(statistic=422652951.0, pvalue=0.0)"
      ]
     },
     "execution_count": 8,
     "metadata": {},
     "output_type": "execute_result"
    }
   ],
   "source": [
    "# Perform Mann-Whitney U test on 'numscreens' to compare between enrolled and not enrolled\n",
    "numscreens_enrolled = customer_data[customer_data['enrolled'] == 1]['numscreens']\n",
    "numscreens_not_enrolled = customer_data[customer_data['enrolled'] == 0]['numscreens']\n",
    "\n",
    "# Calculate the Mann-Whitney U test for 'numscreens'\n",
    "numscreens_mannwhitney = mannwhitneyu(numscreens_enrolled, numscreens_not_enrolled, alternative='two-sided')\n",
    "numscreens_mannwhitney\n"
   ]
  },
  {
   "cell_type": "markdown",
   "metadata": {},
   "source": [
    "The Mann-Whitney U test on the numscreens variable shows a p-value of approximately 0.0, indicating a statistically significant difference in the number of screens interacted with between enrolled and not enrolled users. This suggests that the interaction level, measured by the number of screens a user engages with, is significantly associated with enrollment."
   ]
  },
  {
   "cell_type": "code",
   "execution_count": 9,
   "metadata": {},
   "outputs": [
    {
     "data": {
      "text/plain": [
       "({'credit_screens_count': 0.0,\n",
       "  'cc_screens_count': 0.00035195203915489194,\n",
       "  'loan_screens_count': 1.0801980033361591e-138},\n",
       " {'used_premium_feature': 1.0917913817684498e-26,\n",
       "  'minigame': 0.022415479101004665})"
      ]
     },
     "execution_count": 9,
     "metadata": {},
     "output_type": "execute_result"
    }
   ],
   "source": [
    "# Mann-Whitney U test for financial interaction screens\n",
    "financial_screens = ['credit_screens_count', 'cc_screens_count', 'loan_screens_count']\n",
    "financial_screen_results = {}\n",
    "\n",
    "for screen in financial_screens:\n",
    "    enrolled = customer_data[customer_data['enrolled'] == 1][screen]\n",
    "    not_enrolled = customer_data[customer_data['enrolled'] == 0][screen]\n",
    "    stat, p = mannwhitneyu(enrolled, not_enrolled, alternative='two-sided')\n",
    "    financial_screen_results[screen] = p\n",
    "\n",
    "# Chi-square tests for app service usage\n",
    "app_services = ['used_premium_feature', 'minigame']\n",
    "app_service_results = {}\n",
    "\n",
    "for service in app_services:\n",
    "    contingency_table = pd.crosstab(customer_data[service], customer_data['enrolled'])\n",
    "    chi2, p, dof, ex = chi2_contingency(contingency_table)\n",
    "    app_service_results[service] = p\n",
    "\n",
    "financial_screen_results, app_service_results\n"
   ]
  },
  {
   "cell_type": "markdown",
   "metadata": {},
   "source": [
    "Financial Interaction Screens\n",
    "\n",
    "Credit Screens Count: Statistically significant difference in interactions (p-value ≈ 0.0). Users who enroll interact more with credit-related screens.\n",
    "CC Screens Count (Credit Card): Significant difference in interactions (p-value = 0.00035). Enrolled users engage more with credit card-related screens.\n",
    "Loan Screens Count: Significant difference (p-value ≈ 0.0). Indicates higher interactions with loan-related screens among enrolled users.\n",
    "\n",
    "App Services Interaction\n",
    "\n",
    "Used Premium Feature: Strong statistical significance (p-value ≈ 0.0). Suggests that the use of premium features is correlated with higher enrollment.\n",
    "Minigame: Also statistically significant (p-value = 0.022). Users who play minigames are more likely to enroll."
   ]
  },
  {
   "cell_type": "code",
   "execution_count": 10,
   "metadata": {},
   "outputs": [
    {
     "data": {
      "text/plain": [
       "{'VerifyAnnualIncome': 2.98679005829175e-21,\n",
       " 'VerifyIncomeType': 1.048639399159856e-07,\n",
       " 'ProfileEmploymentLength': 0.00020830801764954013}"
      ]
     },
     "execution_count": 10,
     "metadata": {},
     "output_type": "execute_result"
    }
   ],
   "source": [
    "# Employment and income verification analysis using Chi-square test\n",
    "verification_features = ['VerifyAnnualIncome', 'VerifyIncomeType', 'ProfileEmploymentLength']\n",
    "verification_results = {}\n",
    "\n",
    "for feature in verification_features:\n",
    "    contingency_table = pd.crosstab(customer_data[feature], customer_data['enrolled'])\n",
    "    chi2, p, dof, ex = chi2_contingency(contingency_table)\n",
    "    verification_results[feature] = p\n",
    "\n",
    "verification_results\n"
   ]
  },
  {
   "cell_type": "markdown",
   "metadata": {},
   "source": [
    "Verify Annual Income: There's a significant association between verifying annual income and enrollment (p-value ≈ 0.0), suggesting that users who verify their income are more likely to enroll.\n",
    "\n",
    "Verify Income Type: Also shows a significant relationship (p-value ≈ 0.0), indicating a higher likelihood of enrollment among users who verify their type of income.\n",
    "\n",
    "Profile Employment Length: Significant (p-value = 0.0002), which suggests that the length of employment provided in the user's profile correlates with enrollment likelihood."
   ]
  },
  {
   "cell_type": "markdown",
   "metadata": {},
   "source": [
    "# Additional tests \n",
    "\n",
    "\n",
    "Hour of App Use: Compare enrollment rates based on the hour of the day using ANOVA.\n",
    "\n",
    "Number of Likes: Assess if the number of likes a user has given correlates with enrollment using a Mann-Whitney U test.\n",
    "\n",
    "Location: If detailed location data is available, compare urban vs. rural enrollment using a Chi-square test.\n",
    "\n",
    "Security Modal Interactions: Test if interaction with security modals impacts enrollment using a Chi-square test.\n",
    "\n",
    "Network Failure Interactions: Determine if experiencing network failures affects enrollment likelihood using a Chi-square test.\n",
    "\n",
    "Transaction List Usage: Examine if using the transaction list feature correlates with higher enrollment using a Chi-square test.\n",
    "\n",
    "Profile Children: Test if having children (if data available) affects enrollment using a Chi-square test.\n",
    "\n",
    "Profile Job Title: Use ANOVA to see if job titles relate to enrollment rates.\n",
    "\n",
    "List Picker Usage: Determine if using the list picker feature impacts enrollment using a Chi-square test.\n",
    "\n",
    "Reward Details Interaction: Analyze if interacting with reward details correlates with enrollment using a Chi-square test."
   ]
  },
  {
   "cell_type": "code",
   "execution_count": 13,
   "metadata": {},
   "outputs": [
    {
     "data": {
      "text/plain": [
       "(                sum_sq       df          F        PR(>F)\n",
       " C(hour)     115.333946     23.0  20.235889  1.434435e-83\n",
       " Residual  12384.216054  49976.0        NaN           NaN,\n",
       " MannwhitneyuResult(statistic=312082500.0, pvalue=0.6953715083625313),\n",
       " {'SecurityModal': 2.1675154116171901e-13,\n",
       "  'NetworkFailure': 0.06997705089803223,\n",
       "  'TransactionList': 1.289329495300392e-25,\n",
       "  'ListPicker': 6.128522405763001e-05,\n",
       "  'RewardDetail': 2.486167321485173e-06})"
      ]
     },
     "execution_count": 13,
     "metadata": {},
     "output_type": "execute_result"
    }
   ],
   "source": [
    "# Performing multiple statistical tests as outlined\n",
    "\n",
    "# 1. ANOVA for 'hour' of app use\n",
    "hour_formula = 'enrolled ~ C(hour)'\n",
    "hour_model = ols(hour_formula, data=customer_data).fit()\n",
    "hour_anova = sm.stats.anova_lm(hour_model, typ=2)\n",
    "\n",
    "# 2. Mann-Whitney U for 'liked'\n",
    "liked_enrolled = customer_data[customer_data['enrolled'] == 1]['liked']\n",
    "liked_not_enrolled = customer_data[customer_data['enrolled'] == 0]['liked']\n",
    "liked_mannwhitney = mannwhitneyu(liked_enrolled, liked_not_enrolled, alternative='two-sided')\n",
    "\n",
    "# 3-10. Chi-square tests for various features\n",
    "features_to_test = ['SecurityModal', 'NetworkFailure', 'TransactionList', \n",
    "                    'ListPicker', 'RewardDetail']\n",
    "chi_square_results_multiple = {}\n",
    "\n",
    "for feature in features_to_test:\n",
    "    contingency_table = pd.crosstab(customer_data[feature], customer_data['enrolled'])\n",
    "    chi2, p, dof, ex = chi2_contingency(contingency_table)\n",
    "    chi_square_results_multiple[feature] = p\n",
    "\n",
    "# Output results from performed tests\n",
    "hour_anova, liked_mannwhitney, chi_square_results_multiple\n"
   ]
  },
  {
   "cell_type": "markdown",
   "metadata": {},
   "source": [
    "1. **Hour of App Use**: Compare enrollment rates based on the hour of the day using ANOVA.\n",
    "2. **Number of Likes**: Assess if the number of likes a user has given correlates with enrollment using a Mann-Whitney U test.\n",
    "3. **Location**: If detailed location data is available, compare urban vs. rural enrollment using a Chi-square test.\n",
    "4. **Security Modal Interactions**: Test if interaction with security modals impacts enrollment using a Chi-square test.\n",
    "5. **Network Failure Interactions**: Determine if experiencing network failures affects enrollment likelihood using a Chi-square test.\n",
    "6. **Transaction List Usage**: Examine if using the transaction list feature correlates with higher enrollment using a Chi-square test.\n",
    "7. **Profile Children**: Test if having children (if data available) affects enrollment using a Chi-square test.\n",
    "8. **Profile Job Title**: Use ANOVA to see if job titles relate to enrollment rates.\n",
    "9. **List Picker Usage**: Determine if using the list picker feature impacts enrollment using a Chi-square test.\n",
    "10. **Reward Details Interaction**: Analyze if interacting with reward details correlates with enrollment using a Chi-square test.\n",
    "\n",
    "\n",
    "1. **ANOVA for `hour` of app use**\n",
    "2. **Mann-Whitney U test for `liked`**\n",
    "3. **Chi-square tests for several features** including `SecurityModal`, `NetworkFailure`, `TransactionList`, `ListPicker`, and `RewardDetail`\n",
    "\n",
    "\n",
    "### ANOVA for Hour of App Use\n",
    "- **F-statistic**: 20.24, **p-value**: \\(\\approx 0.0\\)\n",
    "  - This indicates that there is a significant difference in enrollment rates across different hours of the day, suggesting that the time when the app is used might influence the likelihood of enrolling.\n",
    "\n",
    "### Mann-Whitney U Test for Likes\n",
    "- **Statistic**: 312082500.0, **p-value**: 0.695\n",
    "  - This test shows that there is no significant difference in the number of likes between enrolled and not enrolled users, indicating that liking behavior may not be a strong predictor of enrollment.\n",
    "\n",
    "### Chi-Square Tests for Various Features\n",
    "- **Security Modal**: \\(p \\approx 0.0\\) - Significant; suggests that interaction with security modals is associated with enrollment status.\n",
    "- **Network Failure**: \\(p = 0.070\\) - Not significant; suggests that experiencing network failures does not significantly affect enrollment.\n",
    "- **Transaction List**: \\(p \\approx 0.0\\) - Significant; indicates that using the transaction list feature is associated with higher enrollment.\n",
    "- **List Picker**: \\(p = 0.00006\\) - Significant; using the list picker feature correlates with enrollment.\n",
    "- **Reward Detail**: \\(p \\approx 0.0\\) - Significant; interaction with reward details is significantly associated with enrollment.\n"
   ]
  },
  {
   "cell_type": "code",
   "execution_count": null,
   "metadata": {},
   "outputs": [],
   "source": []
  }
 ],
 "metadata": {
  "kernelspec": {
   "display_name": "base",
   "language": "python",
   "name": "python3"
  },
  "language_info": {
   "codemirror_mode": {
    "name": "ipython",
    "version": 3
   },
   "file_extension": ".py",
   "mimetype": "text/x-python",
   "name": "python",
   "nbconvert_exporter": "python",
   "pygments_lexer": "ipython3",
   "version": "3.11.8"
  }
 },
 "nbformat": 4,
 "nbformat_minor": 2
}
